{
 "cells": [
  {
   "cell_type": "markdown",
   "metadata": {},
   "source": [
    "# Dementia Project"
   ]
  },
  {
   "cell_type": "markdown",
   "metadata": {},
   "source": [
    "Linear Regression\n",
    "Logistic Regression\n",
    "SVM\n",
    "Neural Networks"
   ]
  },
  {
   "cell_type": "code",
   "execution_count": 2,
   "metadata": {},
   "outputs": [],
   "source": [
    "# Run this code cell using Shift + Enter before moving further\n",
    "import numpy as np\n",
    "import pandas as pd\n",
    "from sklearn import datasets, linear_model, preprocessing\n",
    "from sklearn.linear_model import LinearRegression\n",
    "import matplotlib.pyplot as plt\n",
    "%matplotlib inline "
   ]
  },
  {
   "cell_type": "markdown",
   "metadata": {},
   "source": [
    "# Loading the data set."
   ]
  },
  {
   "cell_type": "code",
   "execution_count": 3,
   "metadata": {},
   "outputs": [
    {
     "name": "stdout",
     "output_type": "stream",
     "text": [
      "(436, 12)\n",
      "                ID M/F Hand  Age  Educ  SES  MMSE  CDR  eTIV   nWBV    ASF  \\\n",
      "0    OAS1_0001_MR1   F    R   74   2.0  3.0  29.0  0.0  1344  0.743  1.306   \n",
      "1    OAS1_0002_MR1   F    R   55   4.0  1.0  29.0  0.0  1147  0.810  1.531   \n",
      "2    OAS1_0003_MR1   F    R   73   4.0  3.0  27.0  0.5  1454  0.708  1.207   \n",
      "3    OAS1_0004_MR1   M    R   28   NaN  NaN   NaN  NaN  1588  0.803  1.105   \n",
      "4    OAS1_0005_MR1   M    R   18   NaN  NaN   NaN  NaN  1737  0.848  1.010   \n",
      "..             ...  ..  ...  ...   ...  ...   ...  ...   ...    ...    ...   \n",
      "431  OAS1_0285_MR2   M    R   20   NaN  NaN   NaN  NaN  1469  0.847  1.195   \n",
      "432  OAS1_0353_MR2   M    R   22   NaN  NaN   NaN  NaN  1684  0.790  1.042   \n",
      "433  OAS1_0368_MR2   M    R   22   NaN  NaN   NaN  NaN  1580  0.856  1.111   \n",
      "434  OAS1_0379_MR2   F    R   20   NaN  NaN   NaN  NaN  1262  0.861  1.390   \n",
      "435  OAS1_0395_MR2   F    R   26   NaN  NaN   NaN  NaN  1283  0.834  1.368   \n",
      "\n",
      "     Delay  \n",
      "0      NaN  \n",
      "1      NaN  \n",
      "2      NaN  \n",
      "3      NaN  \n",
      "4      NaN  \n",
      "..     ...  \n",
      "431    2.0  \n",
      "432   40.0  \n",
      "433   89.0  \n",
      "434    2.0  \n",
      "435   39.0  \n",
      "\n",
      "[436 rows x 12 columns]\n"
     ]
    }
   ],
   "source": [
    "# After completing the code in this code cell, run this code cell before moving further.\n",
    "\n",
    "df = pd.read_csv('oasis_cross-sectional.csv',na_values='?') \n",
    "print(df.shape)\n",
    "print(df)"
   ]
  },
  {
   "cell_type": "code",
   "execution_count": 4,
   "metadata": {},
   "outputs": [
    {
     "name": "stdout",
     "output_type": "stream",
     "text": [
      "    M/F  Age  eTIV   nWBV    ASF  CDR\n",
      "0     F   74  1344  0.743  1.306  0.0\n",
      "1     F   55  1147  0.810  1.531  0.0\n",
      "2     F   73  1454  0.708  1.207  0.5\n",
      "3     M   28  1588  0.803  1.105  NaN\n",
      "4     M   18  1737  0.848  1.010  NaN\n",
      "..   ..  ...   ...    ...    ...  ...\n",
      "431   M   20  1469  0.847  1.195  NaN\n",
      "432   M   22  1684  0.790  1.042  NaN\n",
      "433   M   22  1580  0.856  1.111  NaN\n",
      "434   F   20  1262  0.861  1.390  NaN\n",
      "435   F   26  1283  0.834  1.368  NaN\n",
      "\n",
      "[436 rows x 6 columns]\n",
      "    M/F  Age  eTIV   nWBV    ASF  CDR\n",
      "0     F   74  1344  0.743  1.306  0.0\n",
      "1     F   55  1147  0.810  1.531  0.0\n",
      "2     F   73  1454  0.708  1.207  0.5\n",
      "8     M   74  1636  0.689  1.073  0.0\n",
      "9     F   52  1321  0.827  1.329  0.0\n",
      "..   ..  ...   ...    ...    ...  ...\n",
      "411   F   70  1295  0.748  1.355  0.5\n",
      "412   F   73  1536  0.730  1.142  0.5\n",
      "413   F   61  1354  0.825  1.297  0.0\n",
      "414   M   61  1637  0.780  1.072  0.0\n",
      "415   F   62  1372  0.766  1.279  0.0\n",
      "\n",
      "[235 rows x 6 columns]\n"
     ]
    }
   ],
   "source": [
    "# ID M/F Hand  Age  Educ  SES  MMSE  CDR  eTIV   nWBV    ASF\n",
    "\n",
    "df1= df[['M/F', 'Age', 'eTIV', 'nWBV', 'ASF', 'CDR']]\n",
    "print(df1)\n",
    "\n",
    "df2= df1.dropna()\n",
    "\n",
    "print(df2)"
   ]
  },
  {
   "cell_type": "code",
   "execution_count": 40,
   "metadata": {},
   "outputs": [
    {
     "name": "stdout",
     "output_type": "stream",
     "text": [
      "<class 'numpy.float64'>\n",
      "(235, 5)\n",
      "(235, 1)\n"
     ]
    }
   ],
   "source": [
    "x = np.array(df2[['M/F', 'Age', 'eTIV', 'nWBV', 'ASF']])\n",
    "y = np.array(df2['CDR'])\n",
    "\n",
    "y = y.reshape(-1,1)\n",
    "\n",
    "for entry in x:\n",
    "    if entry[0] == 'F':\n",
    "        entry[0] = 0\n",
    "    else:\n",
    "        entry[0] = 1\n",
    "\n",
    "for entry in y:\n",
    "    if entry[0] != 0:\n",
    "        entry[0] = 1\n",
    "        \n",
    "print(type(y[0][0]))\n",
    "\n",
    "print(x.shape)\n",
    "print(y.shape)"
   ]
  },
  {
   "cell_type": "code",
   "execution_count": 45,
   "metadata": {},
   "outputs": [
    {
     "name": "stdout",
     "output_type": "stream",
     "text": [
      "0\n"
     ]
    }
   ],
   "source": [
    "# Converting our y values into ints\n",
    "\n",
    "lab_enc = preprocessing.LabelEncoder()\n",
    "y = lab_enc.fit_transform(y)\n",
    "\n",
    "print(y[0])"
   ]
  },
  {
   "cell_type": "code",
   "execution_count": 46,
   "metadata": {},
   "outputs": [
    {
     "name": "stdout",
     "output_type": "stream",
     "text": [
      "[[-0.71162508  0.1371931  -0.72174218 -0.12827252  0.6929025 ]\n",
      " [-0.71162508 -1.43752977 -1.95278831  1.27328952  2.43504324]\n",
      " [-0.71162508  0.05431295 -0.03435601 -0.8604318  -0.07363942]\n",
      " ...\n",
      " [-0.71162508 -0.94024886 -0.65925253  1.58707206  0.62321687]\n",
      " [ 1.40523434 -0.94024886  1.10920461  0.64572442 -1.11892387]\n",
      " [-0.71162508 -0.85736871 -0.54677115  0.35286071  0.48384561]]\n",
      "(170, 5)\n",
      "(65,)\n"
     ]
    }
   ],
   "source": [
    "#Scaling & Splitting Data\n",
    "x = preprocessing.scale(x)\n",
    "\n",
    "from sklearn.model_selection import train_test_split\n",
    "\n",
    "x_train, x_test, y_train, y_test = train_test_split(x, y, test_size=0.275)\n",
    "print(x)\n",
    "print(x_train.shape)\n",
    "print(y_test.shape)"
   ]
  },
  {
   "cell_type": "code",
   "execution_count": 47,
   "metadata": {},
   "outputs": [
    {
     "name": "stdout",
     "output_type": "stream",
     "text": [
      "0.26243119892196454\n"
     ]
    }
   ],
   "source": [
    "# Linear Regression (SIMPLE)\n",
    "\n",
    "reg = LinearRegression().fit(x_train, y_train)\n",
    "rsq = reg.score(x_train, y_train)\n",
    "coef = reg.coef_\n",
    "intercept = reg.intercept_\n",
    "\n",
    "print(rsq)"
   ]
  },
  {
   "cell_type": "code",
   "execution_count": 48,
   "metadata": {},
   "outputs": [],
   "source": [
    "yhat = reg.predict(x_test)\n",
    "#print(yhat)\n",
    "\n",
    "##CONTINUE..."
   ]
  },
  {
   "cell_type": "code",
   "execution_count": 73,
   "metadata": {},
   "outputs": [
    {
     "name": "stdout",
     "output_type": "stream",
     "text": [
      "cVal: 0.001\n",
      "Accuracy on training data = 0.576471\n",
      "Accuracy on testing data = 0.569231\n",
      "\n",
      "cVal: 0.01\n",
      "Accuracy on training data = 0.658824\n",
      "Accuracy on testing data = 0.615385\n",
      "\n",
      "cVal: 0.1\n",
      "Accuracy on training data = 0.711765\n",
      "Accuracy on testing data = 0.692308\n",
      "\n",
      "cVal: 1\n",
      "Accuracy on training data = 0.705882\n",
      "Accuracy on testing data = 0.692308\n",
      "\n",
      "cVal: 10\n",
      "Accuracy on training data = 0.711765\n",
      "Accuracy on testing data = 0.676923\n",
      "\n",
      "cVal: 100\n",
      "Accuracy on training data = 0.711765\n",
      "Accuracy on testing data = 0.676923\n",
      "\n",
      "cVal: 1000\n",
      "Accuracy on training data = 0.711765\n",
      "Accuracy on testing data = 0.676923\n",
      "\n"
     ]
    }
   ],
   "source": [
    "#LOGISTIC REGRESSION - w L2 Regularization\n",
    "from sklearn.linear_model import LogisticRegression\n",
    "from sklearn.metrics import precision_recall_fscore_support\n",
    "\n",
    "acc_train_logreg = []\n",
    "acc_test_logreg = []\n",
    "c_logreg = [0.001, 0.01, 0.1, 1, 10, 100, 1000]\n",
    "logreg_objs = []\n",
    "\n",
    "# TODO - Create object of logistic regression model. Pass a large value of C (C = 1/lambda) to make lambda nearly 0. - 5 points\n",
    "for c in c_logreg:\n",
    "    print('cVal:', c)\n",
    "    logreg = LogisticRegression(C=c, solver='lbfgs')\n",
    "    logreg.fit(x_train, y_train)\n",
    "    logreg_objs.append(logreg)\n",
    "    \n",
    "    yhat_tr =  logreg.predict(x_train)\n",
    "    acc_train = logreg.score(x_train, y_train)\n",
    "\n",
    "    acc_train_logreg.append(acc_train)\n",
    "    print(\"Accuracy on training data = %f\" % acc_train)\n",
    "\n",
    "    yhat_test = logreg.predict(x_test)\n",
    "    acc_test = logreg.score(x_test, y_test)\n",
    "\n",
    "    acc_test_logreg.append(acc_test)\n",
    "    print(\"Accuracy on testing data = %f\" % acc_test)\n",
    "    print()"
   ]
  },
  {
   "cell_type": "code",
   "execution_count": 72,
   "metadata": {},
   "outputs": [
    {
     "name": "stdout",
     "output_type": "stream",
     "text": [
      "Accuracy on training data: 0.711764705882353\n",
      "Accuracy on testing data: 0.6923076923076923\n",
      "w: [[ 0.14402674  0.21098956  0.05924867 -0.75158871 -0.04509271]]\n",
      "intercept: [-0.38816163]\n",
      "prec: [0.69047619 0.65217391]\n",
      "recall: [0.78378378 0.53571429]\n",
      "fscore: [0.73417722 0.58823529]\n"
     ]
    }
   ],
   "source": [
    "best_test_acc = max(acc_test_logreg)\n",
    "i = acc_test_logreg.index(best_test_acc)\n",
    "print('Accuracy on training data:', acc_train_logreg[i])\n",
    "print('Accuracy on testing data:', acc_test_logreg[i])\n",
    "\n",
    "logreg = logreg_objs[i]\n",
    "\n",
    "w = logreg.coef_ \n",
    "intercept = logreg.intercept_\n",
    "\n",
    "print('w:', w)\n",
    "print('intercept:', intercept)\n",
    "\n",
    "prec , recal , fscore,_ = precision_recall_fscore_support(y_test, yhat_test)\n",
    "print('prec:', prec)\n",
    "print('recall:', recal)\n",
    "print('fscore:', fscore)\n"
   ]
  },
  {
   "cell_type": "code",
   "execution_count": 74,
   "metadata": {},
   "outputs": [],
   "source": [
    "# SVM "
   ]
  },
  {
   "cell_type": "code",
   "execution_count": null,
   "metadata": {},
   "outputs": [],
   "source": [
    "from sklearn import svm"
   ]
  }
 ],
 "metadata": {
  "kernelspec": {
   "display_name": "Python 3",
   "language": "python",
   "name": "python3"
  },
  "language_info": {
   "codemirror_mode": {
    "name": "ipython",
    "version": 3
   },
   "file_extension": ".py",
   "mimetype": "text/x-python",
   "name": "python",
   "nbconvert_exporter": "python",
   "pygments_lexer": "ipython3",
   "version": "3.7.4"
  }
 },
 "nbformat": 4,
 "nbformat_minor": 2
}
