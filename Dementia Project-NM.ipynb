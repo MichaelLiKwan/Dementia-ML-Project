{
 "cells": [
  {
   "cell_type": "markdown",
   "metadata": {},
   "source": [
    "# Dementia Project"
   ]
  },
  {
   "cell_type": "markdown",
   "metadata": {},
   "source": [
    "Linear Regression\n",
    "Logistic Regression\n",
    "SVM\n",
    "Neural Networks"
   ]
  },
  {
   "cell_type": "code",
   "execution_count": 114,
   "metadata": {},
   "outputs": [],
   "source": [
    "# Run this code cell using Shift + Enter before moving further\n",
    "import numpy as np\n",
    "import pandas as pd\n",
    "\n",
    "from sklearn import datasets, linear_model, preprocessing\n",
    "    \n",
    "from sklearn.linear_model import LinearRegression, LogisticRegression\n",
    "\n",
    "from sklearn.model_selection import train_test_split\n",
    "\n",
    "from sklearn.metrics import precision_recall_fscore_support\n",
    "\n",
    "from sklearn import svm\n",
    "\n",
    "import matplotlib.pyplot as plt\n",
    "%matplotlib inline "
   ]
  },
  {
   "cell_type": "markdown",
   "metadata": {},
   "source": [
    "# Loading the data set."
   ]
  },
  {
   "cell_type": "code",
   "execution_count": 115,
   "metadata": {},
   "outputs": [
    {
     "name": "stdout",
     "output_type": "stream",
     "text": [
      "(436, 12)\n",
      "                ID M/F Hand  Age  Educ  SES  MMSE  CDR  eTIV   nWBV    ASF  \\\n",
      "0    OAS1_0001_MR1   F    R   74   2.0  3.0  29.0  0.0  1344  0.743  1.306   \n",
      "1    OAS1_0002_MR1   F    R   55   4.0  1.0  29.0  0.0  1147  0.810  1.531   \n",
      "2    OAS1_0003_MR1   F    R   73   4.0  3.0  27.0  0.5  1454  0.708  1.207   \n",
      "3    OAS1_0004_MR1   M    R   28   NaN  NaN   NaN  NaN  1588  0.803  1.105   \n",
      "4    OAS1_0005_MR1   M    R   18   NaN  NaN   NaN  NaN  1737  0.848  1.010   \n",
      "..             ...  ..  ...  ...   ...  ...   ...  ...   ...    ...    ...   \n",
      "431  OAS1_0285_MR2   M    R   20   NaN  NaN   NaN  NaN  1469  0.847  1.195   \n",
      "432  OAS1_0353_MR2   M    R   22   NaN  NaN   NaN  NaN  1684  0.790  1.042   \n",
      "433  OAS1_0368_MR2   M    R   22   NaN  NaN   NaN  NaN  1580  0.856  1.111   \n",
      "434  OAS1_0379_MR2   F    R   20   NaN  NaN   NaN  NaN  1262  0.861  1.390   \n",
      "435  OAS1_0395_MR2   F    R   26   NaN  NaN   NaN  NaN  1283  0.834  1.368   \n",
      "\n",
      "     Delay  \n",
      "0      NaN  \n",
      "1      NaN  \n",
      "2      NaN  \n",
      "3      NaN  \n",
      "4      NaN  \n",
      "..     ...  \n",
      "431    2.0  \n",
      "432   40.0  \n",
      "433   89.0  \n",
      "434    2.0  \n",
      "435   39.0  \n",
      "\n",
      "[436 rows x 12 columns]\n"
     ]
    }
   ],
   "source": [
    "# After completing the code in this code cell, run this code cell before moving further.\n",
    "\n",
    "df = pd.read_csv('oasis_cross-sectional.csv', na_values='?') \n",
    "print(df.shape)\n",
    "print(df)"
   ]
  },
  {
   "cell_type": "code",
   "execution_count": 116,
   "metadata": {},
   "outputs": [
    {
     "name": "stdout",
     "output_type": "stream",
     "text": [
      "    M/F  Age  eTIV   nWBV    ASF  CDR\n",
      "0     F   74  1344  0.743  1.306  0.0\n",
      "1     F   55  1147  0.810  1.531  0.0\n",
      "2     F   73  1454  0.708  1.207  0.5\n",
      "3     M   28  1588  0.803  1.105  NaN\n",
      "4     M   18  1737  0.848  1.010  NaN\n",
      "..   ..  ...   ...    ...    ...  ...\n",
      "431   M   20  1469  0.847  1.195  NaN\n",
      "432   M   22  1684  0.790  1.042  NaN\n",
      "433   M   22  1580  0.856  1.111  NaN\n",
      "434   F   20  1262  0.861  1.390  NaN\n",
      "435   F   26  1283  0.834  1.368  NaN\n",
      "\n",
      "[436 rows x 6 columns]\n",
      "    M/F  Age  eTIV   nWBV    ASF  CDR\n",
      "0     F   74  1344  0.743  1.306  0.0\n",
      "1     F   55  1147  0.810  1.531  0.0\n",
      "2     F   73  1454  0.708  1.207  0.5\n",
      "8     M   74  1636  0.689  1.073  0.0\n",
      "9     F   52  1321  0.827  1.329  0.0\n",
      "..   ..  ...   ...    ...    ...  ...\n",
      "411   F   70  1295  0.748  1.355  0.5\n",
      "412   F   73  1536  0.730  1.142  0.5\n",
      "413   F   61  1354  0.825  1.297  0.0\n",
      "414   M   61  1637  0.780  1.072  0.0\n",
      "415   F   62  1372  0.766  1.279  0.0\n",
      "\n",
      "[235 rows x 6 columns]\n"
     ]
    }
   ],
   "source": [
    "# ID M/F Hand  Age  Educ  SES  MMSE  CDR  eTIV   nWBV    ASF\n",
    "\n",
    "df1= df[['M/F', 'Age', 'eTIV', 'nWBV', 'ASF', 'CDR']]\n",
    "print(df1)\n",
    "\n",
    "df2= df1.dropna()\n",
    "print(df2)"
   ]
  },
  {
   "cell_type": "code",
   "execution_count": 117,
   "metadata": {},
   "outputs": [
    {
     "name": "stdout",
     "output_type": "stream",
     "text": [
      "<class 'numpy.float64'>\n",
      "(235, 5)\n",
      "(235, 1)\n"
     ]
    }
   ],
   "source": [
    "x = np.array(df2[['M/F', 'Age', 'eTIV', 'nWBV', 'ASF']])\n",
    "y = np.array(df2['CDR'])\n",
    "\n",
    "y = y.reshape(-1,1)\n",
    "\n",
    "for entry in x:\n",
    "    if entry[0] == 'F':\n",
    "        entry[0] = 0\n",
    "    else:\n",
    "        entry[0] = 1\n",
    "\n",
    "for entry in y:\n",
    "    if entry[0] != 0:\n",
    "        entry[0] = 1\n",
    "        \n",
    "print(type(y[0][0]))\n",
    "\n",
    "print(x.shape)\n",
    "print(y.shape)"
   ]
  },
  {
   "cell_type": "code",
   "execution_count": 118,
   "metadata": {},
   "outputs": [
    {
     "name": "stdout",
     "output_type": "stream",
     "text": [
      "0\n"
     ]
    },
    {
     "name": "stderr",
     "output_type": "stream",
     "text": [
      "/opt/anaconda3/lib/python3.7/site-packages/sklearn/preprocessing/label.py:235: DataConversionWarning: A column-vector y was passed when a 1d array was expected. Please change the shape of y to (n_samples, ), for example using ravel().\n",
      "  y = column_or_1d(y, warn=True)\n"
     ]
    }
   ],
   "source": [
    "# Converting our y values into ints\n",
    "\n",
    "lab_enc = preprocessing.LabelEncoder()\n",
    "y = lab_enc.fit_transform(y)\n",
    "\n",
    "print(y[0])"
   ]
  },
  {
   "cell_type": "code",
   "execution_count": 119,
   "metadata": {},
   "outputs": [
    {
     "name": "stdout",
     "output_type": "stream",
     "text": [
      "[[-0.71162508  0.1371931  -0.72174218 -0.12827252  0.6929025 ]\n",
      " [-0.71162508 -1.43752977 -1.95278831  1.27328952  2.43504324]\n",
      " [-0.71162508  0.05431295 -0.03435601 -0.8604318  -0.07363942]\n",
      " ...\n",
      " [-0.71162508 -0.94024886 -0.65925253  1.58707206  0.62321687]\n",
      " [ 1.40523434 -0.94024886  1.10920461  0.64572442 -1.11892387]\n",
      " [-0.71162508 -0.85736871 -0.54677115  0.35286071  0.48384561]]\n",
      "(170, 5)\n",
      "(65,)\n"
     ]
    }
   ],
   "source": [
    "#Scaling & Splitting Data\n",
    "\n",
    "x = preprocessing.scale(x)\n",
    "x_train, x_test, y_train, y_test = train_test_split(x, y, test_size=0.275)\n",
    "\n",
    "print(x)\n",
    "print(x_train.shape)\n",
    "print(y_test.shape)"
   ]
  },
  {
   "cell_type": "code",
   "execution_count": 121,
   "metadata": {},
   "outputs": [
    {
     "name": "stdout",
     "output_type": "stream",
     "text": [
      "0.24447591541694494\n"
     ]
    }
   ],
   "source": [
    "# Linear Regression (SIMPLE)\n",
    "\n",
    "reg = LinearRegression().fit(x_train, y_train)\n",
    "rsq = reg.score(x_train, y_train)\n",
    "coef = reg.coef_\n",
    "intercept = reg.intercept_\n",
    "\n",
    "print(rsq)"
   ]
  },
  {
   "cell_type": "code",
   "execution_count": 48,
   "metadata": {},
   "outputs": [],
   "source": [
    "yhat = reg.predict(x_test)\n",
    "#print(yhat)\n",
    "\n",
    "#CONTINUE..."
   ]
  },
  {
   "cell_type": "code",
   "execution_count": null,
   "metadata": {},
   "outputs": [],
   "source": [
    "# Logistic Regression and SVMs"
   ]
  },
  {
   "cell_type": "code",
   "execution_count": 134,
   "metadata": {},
   "outputs": [],
   "source": [
    "def logreg_model_lasso(c , X_train, Y_train, X_test, Y_test):\n",
    "    logreg_lasso = linear_model.LogisticRegression(C=c, penalty='l1', solver='saga')\n",
    "    logreg_lasso.fit(X_train, Y_train)    \n",
    "    \n",
    "    Yhat_train = logreg_lasso.predict(X_train)\n",
    "    \n",
    "    acc_train = logreg_lasso.score(X_train, Y_train)\n",
    "    acc_train_logreg_lasso.append(acc_train)\n",
    "    print(\"Accuracy on training data = %f\" % acc_train)\n",
    "    \n",
    "    Yhat_test = logreg_lasso.predict(X_test)\n",
    "    \n",
    "    acc_test = logreg_lasso.score(X_test, Y_test)\n",
    "    acc_test_logreg_lasso.append(acc_test)\n",
    "    print(\"Accuracy on test data = %f\" % acc_test)\n",
    "    \n",
    "    c_logreg_lasso.append(c)"
   ]
  },
  {
   "cell_type": "code",
   "execution_count": 123,
   "metadata": {},
   "outputs": [],
   "source": [
    "def logreg_model_ridge(c , X_train, Y_train, X_test, Y_test):\n",
    "    logreg_ridge = linear_model.LogisticRegression(C=c, solver='lbfgs')\n",
    "    logreg_ridge.fit(X_train, Y_train)\n",
    "    \n",
    "    Yhat_train = logreg_ridge.predict(X_train)\n",
    "    \n",
    "    acc_train = logreg_ridge.score(X_train, Y_train)\n",
    "    acc_train_logreg_ridge.append(acc_train)\n",
    "    print(\"Accuracy on training data = %f\" % acc_train)\n",
    "    \n",
    "    Yhat_test = logreg_ridge.predict(X_test)\n",
    "    \n",
    "    acc_test = logreg_ridge.score(X_test, Y_test)\n",
    "    acc_test_logreg_ridge.append(acc_test)\n",
    "    print(\"Accuracy on test data = %f\" % acc_test)\n",
    "    \n",
    "    c_logreg_ridge.append(c)"
   ]
  },
  {
   "cell_type": "code",
   "execution_count": 124,
   "metadata": {},
   "outputs": [],
   "source": [
    "def svm_linear(c, X_train, Y_train, X_test, Y_test):\n",
    "    svc_linear = svm.SVC(C=c, kernel='linear')\n",
    "    svc_linear.fit(X_train, Y_train)\n",
    "    \n",
    "    Yhat_svc_linear_train = svc_linear.predict(X_train)\n",
    "    \n",
    "    acc_train = svc_linear.score(X_train, Y_train)\n",
    "    acc_train_svm_linear.append(acc_train)\n",
    "    print('Train Accuracy = {0:f}'.format(acc_train))\n",
    "    \n",
    "    Yhat_svc_linear_test = svc_linear.predict(X_test)\n",
    "\n",
    "    acc_test = svc_linear.score(X_test, Y_test)\n",
    "    acc_test_svm_linear.append(acc_test)\n",
    "    print('Test Accuracy = {0:f}'.format(acc_test))\n",
    "    \n",
    "    c_svm_linear.append(c)"
   ]
  },
  {
   "cell_type": "code",
   "execution_count": 125,
   "metadata": {},
   "outputs": [],
   "source": [
    "def svm_rbf(c, X_train, Y_train, X_test, Y_test):\n",
    "    svc_rbf = svm.SVC(C=c, kernel='rbf', gamma='scale')\n",
    "    svc_rbf.fit(X_train, Y_train)\n",
    "    \n",
    "    Yhat_svc_rbf_train = svc_rbf.predict(X_train)\n",
    "\n",
    "    acc_train = svc_rbf.score(X_train, Y_train)\n",
    "    acc_train_svm_rbf.append(acc_train)\n",
    "    print('Train Accuracy = {0:f}'.format(acc_train))\n",
    "    \n",
    "    Yhat_svc_rbf_test = svc_rbf.predict(X_test)\n",
    "    \n",
    "    acc_test = svc_rbf.score(X_test, Y_test)\n",
    "    acc_test_svm_rbf.append(acc_test)\n",
    "    print('Test Accuracy = {0:f}'.format(acc_test))\n",
    "    \n",
    "    c_svm_rbf.append(c)"
   ]
  },
  {
   "cell_type": "code",
   "execution_count": 126,
   "metadata": {},
   "outputs": [],
   "source": [
    "def svm_polynomial(c, X_train, Y_train, X_test, Y_test):\n",
    "    svc_polynomial = svm.SVC(C=c, kernel='poly', gamma='scale')\n",
    "    \n",
    "    A = X_train #[0:300,:]  # First 300 rows of training set.\n",
    "    B = Y_train #[0:300]  \n",
    "    C = X_test #[0:100,:]   # First 100 rows of test set.\n",
    "    D = Y_test #[0:100]\n",
    "    \n",
    "    svc_polynomial.fit(A, B)\n",
    "    \n",
    "    Yhat_svc_poly_train = svc_polynomial.predict(A)\n",
    "    \n",
    "    acc_train = svc_polynomial.score(A, B)\n",
    "    acc_train_svm_poly.append(acc_train)\n",
    "    print('Train Accuracy = {0:f}'.format(acc_train))\n",
    "    \n",
    "    Yhat_svc_poly_test = svc_polynomial.predict(C)\n",
    "\n",
    "    acc_test = svc_polynomial.score(C, D)\n",
    "    acc_test_svm_poly.append(acc_test)\n",
    "    print('Test Accuracy = {0:f}'.format(acc_test))\n",
    "    \n",
    "    c_svm_poly.append(c)    "
   ]
  },
  {
   "cell_type": "code",
   "execution_count": null,
   "metadata": {},
   "outputs": [],
   "source": [
    "# Running the models on the datasets"
   ]
  },
  {
   "cell_type": "code",
   "execution_count": 140,
   "metadata": {},
   "outputs": [],
   "source": [
    "cVals = [0.0001, 0.001, 0.01, 0.1, 1, 10, 100]"
   ]
  },
  {
   "cell_type": "code",
   "execution_count": 141,
   "metadata": {},
   "outputs": [
    {
     "name": "stdout",
     "output_type": "stream",
     "text": [
      "Accuracy on training data = 0.582353\n",
      "Accuracy on test data = 0.553846\n",
      "Accuracy on training data = 0.582353\n",
      "Accuracy on test data = 0.553846\n",
      "Accuracy on training data = 0.582353\n",
      "Accuracy on test data = 0.553846\n",
      "Accuracy on training data = 0.688235\n",
      "Accuracy on test data = 0.723077\n",
      "Accuracy on training data = 0.705882\n",
      "Accuracy on test data = 0.707692\n",
      "Accuracy on training data = 0.705882\n",
      "Accuracy on test data = 0.692308\n",
      "Accuracy on training data = 0.700000\n",
      "Accuracy on test data = 0.707692\n"
     ]
    },
    {
     "name": "stderr",
     "output_type": "stream",
     "text": [
      "/opt/anaconda3/lib/python3.7/site-packages/sklearn/linear_model/sag.py:337: ConvergenceWarning: The max_iter was reached which means the coef_ did not converge\n",
      "  \"the coef_ did not converge\", ConvergenceWarning)\n",
      "/opt/anaconda3/lib/python3.7/site-packages/sklearn/linear_model/sag.py:337: ConvergenceWarning: The max_iter was reached which means the coef_ did not converge\n",
      "  \"the coef_ did not converge\", ConvergenceWarning)\n"
     ]
    }
   ],
   "source": [
    "acc_train_logreg_lasso = []\n",
    "acc_test_logreg_lasso = []\n",
    "c_logreg_lasso = []\n",
    "\n",
    "for c in cVals:\n",
    "    logreg_model_lasso(c, x_train, y_train, x_test, y_test)"
   ]
  },
  {
   "cell_type": "code",
   "execution_count": 142,
   "metadata": {},
   "outputs": [
    {
     "data": {
      "text/plain": [
       "<matplotlib.legend.Legend at 0x7f96e0a85350>"
      ]
     },
     "execution_count": 142,
     "metadata": {},
     "output_type": "execute_result"
    },
    {
     "data": {
      "image/png": "[encoded data removed]",
      "text/plain": [
       "<Figure size 432x288 with 1 Axes>"
      ]
     },
     "metadata": {
      "needs_background": "light"
     },
     "output_type": "display_data"
    }
   ],
   "source": [
    "plt.plot(c_logreg_lasso, acc_train_logreg_lasso, '.-')\n",
    "plt.plot(c_logreg_lasso, acc_test_logreg_lasso, '.-')\n",
    "plt.xlabel('C-Values')\n",
    "plt.ylabel('Accuray')\n",
    "plt.title(\"Logistic Regression Accuracy vs C-Values L1\")\n",
    "plt.grid()\n",
    "\n",
    "plt.legend(['Training Accuracy', 'Test Accuracy'], loc='lower right')"
   ]
  },
  {
   "cell_type": "code",
   "execution_count": 143,
   "metadata": {},
   "outputs": [
    {
     "name": "stdout",
     "output_type": "stream",
     "text": [
      "Accuracy on training data = 0.582353\n",
      "Accuracy on test data = 0.553846\n",
      "Accuracy on training data = 0.582353\n",
      "Accuracy on test data = 0.553846\n",
      "Accuracy on training data = 0.641176\n",
      "Accuracy on test data = 0.646154\n",
      "Accuracy on training data = 0.700000\n",
      "Accuracy on test data = 0.723077\n",
      "Accuracy on training data = 0.711765\n",
      "Accuracy on test data = 0.707692\n",
      "Accuracy on training data = 0.700000\n",
      "Accuracy on test data = 0.692308\n",
      "Accuracy on training data = 0.700000\n",
      "Accuracy on test data = 0.707692\n"
     ]
    }
   ],
   "source": [
    "acc_train_logreg_ridge = []\n",
    "acc_test_logreg_ridge = []\n",
    "c_logreg_ridge = []\n",
    "\n",
    "for c in cVals:\n",
    "    logreg_model_ridge(c, x_train, y_train, x_test, y_test)"
   ]
  },
  {
   "cell_type": "code",
   "execution_count": 144,
   "metadata": {},
   "outputs": [
    {
     "data": {
      "text/plain": [
       "<matplotlib.legend.Legend at 0x7f96e10d4dd0>"
      ]
     },
     "execution_count": 144,
     "metadata": {},
     "output_type": "execute_result"
    },
    {
     "data": {
      "image/png": "[encoded data removed]",
      "text/plain": [
       "<Figure size 432x288 with 1 Axes>"
      ]
     },
     "metadata": {
      "needs_background": "light"
     },
     "output_type": "display_data"
    }
   ],
   "source": [
    "plt.plot(c_logreg_ridge, acc_train_logreg_ridge, '.-')\n",
    "plt.plot(c_logreg_ridge, acc_test_logreg_ridge, '.-')\n",
    "plt.xlabel('C-Values')\n",
    "plt.ylabel('Accuray')\n",
    "plt.title(\"Logistic Regression Accuracy vs C-Values L2\")\n",
    "plt.grid()\n",
    "\n",
    "# Use the following function to have a legend\n",
    "plt.legend(['Training Accuracy', 'Test Accuracy'], loc='upper right')"
   ]
  },
  {
   "cell_type": "code",
   "execution_count": 146,
   "metadata": {},
   "outputs": [
    {
     "name": "stdout",
     "output_type": "stream",
     "text": [
      "Train Accuracy = 0.582353\n",
      "Test Accuracy = 0.553846\n",
      "Train Accuracy = 0.582353\n",
      "Test Accuracy = 0.553846\n",
      "Train Accuracy = 0.676471\n",
      "Test Accuracy = 0.661538\n",
      "Train Accuracy = 0.723529\n",
      "Test Accuracy = 0.692308\n",
      "Train Accuracy = 0.711765\n",
      "Test Accuracy = 0.692308\n",
      "Train Accuracy = 0.717647\n",
      "Test Accuracy = 0.692308\n",
      "Train Accuracy = 0.705882\n",
      "Test Accuracy = 0.692308\n"
     ]
    }
   ],
   "source": [
    "acc_train_svm_linear = []\n",
    "acc_test_svm_linear = []\n",
    "c_svm_linear = []\n",
    "\n",
    "for c in cVals:\n",
    "    svm_linear(c, x_train, y_train, x_test, y_test)"
   ]
  },
  {
   "cell_type": "code",
   "execution_count": 147,
   "metadata": {},
   "outputs": [
    {
     "data": {
      "text/plain": [
       "<matplotlib.legend.Legend at 0x7f96e0eabfd0>"
      ]
     },
     "execution_count": 147,
     "metadata": {},
     "output_type": "execute_result"
    },
    {
     "data": {
      "image/png": "[encoded data removed]",
      "text/plain": [
       "<Figure size 432x288 with 1 Axes>"
      ]
     },
     "metadata": {
      "needs_background": "light"
     },
     "output_type": "display_data"
    }
   ],
   "source": [
    "plt.plot(c_svm_linear, acc_train_svm_linear, '.-')\n",
    "plt.plot(c_svm_linear, acc_test_svm_linear, '.-')\n",
    "plt.xlabel('C-Values')\n",
    "plt.ylabel('Accuray')\n",
    "plt.title(\"SVM-Linear Accuracy vs C-Values\")\n",
    "plt.grid()\n",
    "\n",
    "plt.legend(['Training Accuracy', 'Test Accuracy'], loc='upper right')"
   ]
  },
  {
   "cell_type": "code",
   "execution_count": 149,
   "metadata": {},
   "outputs": [
    {
     "name": "stdout",
     "output_type": "stream",
     "text": [
      "Train Accuracy = 0.582353\n",
      "Test Accuracy = 0.553846\n",
      "Train Accuracy = 0.582353\n",
      "Test Accuracy = 0.553846\n",
      "Train Accuracy = 0.582353\n",
      "Test Accuracy = 0.553846\n",
      "Train Accuracy = 0.635294\n",
      "Test Accuracy = 0.584615\n",
      "Train Accuracy = 0.752941\n",
      "Test Accuracy = 0.769231\n",
      "Train Accuracy = 0.794118\n",
      "Test Accuracy = 0.738462\n",
      "Train Accuracy = 0.811765\n",
      "Test Accuracy = 0.692308\n"
     ]
    }
   ],
   "source": [
    "acc_train_svm_rbf = []\n",
    "acc_test_svm_rbf = []\n",
    "c_svm_rbf = []\n",
    "\n",
    "for c in cVals:\n",
    "    svm_rbf(c, x_train, y_train, x_test, y_test)"
   ]
  },
  {
   "cell_type": "code",
   "execution_count": 150,
   "metadata": {},
   "outputs": [
    {
     "data": {
      "text/plain": [
       "<matplotlib.legend.Legend at 0x7f96e12326d0>"
      ]
     },
     "execution_count": 150,
     "metadata": {},
     "output_type": "execute_result"
    },
    {
     "data": {
      "image/png": "[encoded data removed]",
      "text/plain": [
       "<Figure size 432x288 with 1 Axes>"
      ]
     },
     "metadata": {
      "needs_background": "light"
     },
     "output_type": "display_data"
    }
   ],
   "source": [
    "plt.plot(c_svm_rbf, acc_train_svm_rbf, '.-')\n",
    "plt.plot(c_svm_rbf, acc_test_svm_rbf, '.-')\n",
    "plt.xlabel('C-Values')\n",
    "plt.ylabel('Accuray')\n",
    "plt.title(\"SVM-RBF Accuracy vs C-Values\")\n",
    "plt.grid()\n",
    "\n",
    "plt.legend(['Training Accuracy', 'Test Accuracy'], loc='lower right')"
   ]
  },
  {
   "cell_type": "code",
   "execution_count": 151,
   "metadata": {},
   "outputs": [
    {
     "name": "stdout",
     "output_type": "stream",
     "text": [
      "Train Accuracy = 0.582353\n",
      "Test Accuracy = 0.553846\n",
      "Train Accuracy = 0.582353\n",
      "Test Accuracy = 0.553846\n",
      "Train Accuracy = 0.600000\n",
      "Test Accuracy = 0.569231\n",
      "Train Accuracy = 0.611765\n",
      "Test Accuracy = 0.569231\n",
      "Train Accuracy = 0.670588\n",
      "Test Accuracy = 0.692308\n",
      "Train Accuracy = 0.723529\n",
      "Test Accuracy = 0.753846\n",
      "Train Accuracy = 0.735294\n",
      "Test Accuracy = 0.769231\n"
     ]
    }
   ],
   "source": [
    "acc_train_svm_poly = []\n",
    "acc_test_svm_poly = []\n",
    "c_svm_poly = []\n",
    "\n",
    "for c in cVals:\n",
    "    svm_polynomial(c, x_train, y_train, x_test, y_test)"
   ]
  },
  {
   "cell_type": "code",
   "execution_count": 152,
   "metadata": {},
   "outputs": [
    {
     "data": {
      "text/plain": [
       "<matplotlib.legend.Legend at 0x7f96e17f6f90>"
      ]
     },
     "execution_count": 152,
     "metadata": {},
     "output_type": "execute_result"
    },
    {
     "data": {
      "image/png": "[encoded data removed]",
      "text/plain": [
       "<Figure size 432x288 with 1 Axes>"
      ]
     },
     "metadata": {
      "needs_background": "light"
     },
     "output_type": "display_data"
    }
   ],
   "source": [
    "plt.plot(c_svm_poly, acc_train_svm_poly, '.-')\n",
    "plt.plot(c_svm_poly, acc_test_svm_poly, '.-')\n",
    "plt.xlabel('C-Values')\n",
    "plt.ylabel('Accuray')\n",
    "plt.title(\"SVM-Poly Accuracy vs C-Values\")\n",
    "plt.grid()\n",
    "\n",
    "# Use the following function to have a legend\n",
    "plt.legend(['Training Accuracy', 'Test Accuracy'], loc='upper right')"
   ]
  },
  {
   "cell_type": "code",
   "execution_count": 155,
   "metadata": {},
   "outputs": [],
   "source": [
    "# Neural Networks"
   ]
  },
  {
   "cell_type": "code",
   "execution_count": null,
   "metadata": {},
   "outputs": [],
   "source": []
  },
  {
   "cell_type": "code",
   "execution_count": 156,
   "metadata": {},
   "outputs": [],
   "source": [
    "# Unsupervised Learning"
   ]
  },
  {
   "cell_type": "code",
   "execution_count": null,
   "metadata": {},
   "outputs": [],
   "source": []
  }
 ],
 "metadata": {
  "kernelspec": {
   "display_name": "Python 3",
   "language": "python",
   "name": "python3"
  },
  "language_info": {
   "codemirror_mode": {
    "name": "ipython",
    "version": 3
   },
   "file_extension": ".py",
   "mimetype": "text/x-python",
   "name": "python",
   "nbconvert_exporter": "python",
   "pygments_lexer": "ipython3",
   "version": "3.7.4"
  }
 },
 "nbformat": 4,
 "nbformat_minor": 2
}
