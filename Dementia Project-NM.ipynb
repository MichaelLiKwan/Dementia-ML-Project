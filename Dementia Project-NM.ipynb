{
 "cells": [
  {
   "cell_type": "markdown",
   "metadata": {},
   "source": [
    "# Dementia Project"
   ]
  },
  {
   "cell_type": "markdown",
   "metadata": {},
   "source": [
    "Linear Regression\n",
    "Logistic Regression\n",
    "SVM\n",
    "Neural Networks"
   ]
  },
  {
   "cell_type": "code",
   "execution_count": 1,
   "metadata": {},
   "outputs": [],
   "source": [
    "# Run this code cell using Shift + Enter before moving further\n",
    "import numpy as np\n",
    "import pandas as pd\n",
    "\n",
    "from sklearn import datasets, linear_model, preprocessing\n",
    "from sklearn.linear_model import LinearRegression, LogisticRegression\n",
    "from sklearn.model_selection import train_test_split\n",
    "from sklearn.metrics import precision_recall_fscore_support, accuracy_score\n",
    "from sklearn import svm\n",
    "import numpy.random as r\n",
    "\n",
    "import matplotlib.pyplot as plt\n",
    "%matplotlib inline "
   ]
  },
  {
   "cell_type": "markdown",
   "metadata": {},
   "source": [
    "# Loading the data set."
   ]
  },
  {
   "cell_type": "code",
   "execution_count": 2,
   "metadata": {},
   "outputs": [
    {
     "name": "stdout",
     "output_type": "stream",
     "text": [
      "(436, 12)\n",
      "                ID M/F Hand  Age  Educ  SES  MMSE  CDR  eTIV   nWBV    ASF  \\\n",
      "0    OAS1_0001_MR1   F    R   74   2.0  3.0  29.0  0.0  1344  0.743  1.306   \n",
      "1    OAS1_0002_MR1   F    R   55   4.0  1.0  29.0  0.0  1147  0.810  1.531   \n",
      "2    OAS1_0003_MR1   F    R   73   4.0  3.0  27.0  0.5  1454  0.708  1.207   \n",
      "3    OAS1_0004_MR1   M    R   28   NaN  NaN   NaN  NaN  1588  0.803  1.105   \n",
      "4    OAS1_0005_MR1   M    R   18   NaN  NaN   NaN  NaN  1737  0.848  1.010   \n",
      "..             ...  ..  ...  ...   ...  ...   ...  ...   ...    ...    ...   \n",
      "431  OAS1_0285_MR2   M    R   20   NaN  NaN   NaN  NaN  1469  0.847  1.195   \n",
      "432  OAS1_0353_MR2   M    R   22   NaN  NaN   NaN  NaN  1684  0.790  1.042   \n",
      "433  OAS1_0368_MR2   M    R   22   NaN  NaN   NaN  NaN  1580  0.856  1.111   \n",
      "434  OAS1_0379_MR2   F    R   20   NaN  NaN   NaN  NaN  1262  0.861  1.390   \n",
      "435  OAS1_0395_MR2   F    R   26   NaN  NaN   NaN  NaN  1283  0.834  1.368   \n",
      "\n",
      "     Delay  \n",
      "0      NaN  \n",
      "1      NaN  \n",
      "2      NaN  \n",
      "3      NaN  \n",
      "4      NaN  \n",
      "..     ...  \n",
      "431    2.0  \n",
      "432   40.0  \n",
      "433   89.0  \n",
      "434    2.0  \n",
      "435   39.0  \n",
      "\n",
      "[436 rows x 12 columns]\n"
     ]
    }
   ],
   "source": [
    "# After completing the code in this code cell, run this code cell before moving further.\n",
    "\n",
    "df = pd.read_csv('oasis_cross-sectional.csv', na_values='?') \n",
    "print(df.shape)\n",
    "print(df)"
   ]
  },
  {
   "cell_type": "code",
   "execution_count": 3,
   "metadata": {},
   "outputs": [
    {
     "name": "stdout",
     "output_type": "stream",
     "text": [
      "    M/F  Age  eTIV   nWBV    ASF  CDR\n",
      "0     F   74  1344  0.743  1.306  0.0\n",
      "1     F   55  1147  0.810  1.531  0.0\n",
      "2     F   73  1454  0.708  1.207  0.5\n",
      "3     M   28  1588  0.803  1.105  NaN\n",
      "4     M   18  1737  0.848  1.010  NaN\n",
      "..   ..  ...   ...    ...    ...  ...\n",
      "431   M   20  1469  0.847  1.195  NaN\n",
      "432   M   22  1684  0.790  1.042  NaN\n",
      "433   M   22  1580  0.856  1.111  NaN\n",
      "434   F   20  1262  0.861  1.390  NaN\n",
      "435   F   26  1283  0.834  1.368  NaN\n",
      "\n",
      "[436 rows x 6 columns]\n",
      "    M/F  Age  eTIV   nWBV    ASF  CDR\n",
      "0     F   74  1344  0.743  1.306  0.0\n",
      "1     F   55  1147  0.810  1.531  0.0\n",
      "2     F   73  1454  0.708  1.207  0.5\n",
      "8     M   74  1636  0.689  1.073  0.0\n",
      "9     F   52  1321  0.827  1.329  0.0\n",
      "..   ..  ...   ...    ...    ...  ...\n",
      "411   F   70  1295  0.748  1.355  0.5\n",
      "412   F   73  1536  0.730  1.142  0.5\n",
      "413   F   61  1354  0.825  1.297  0.0\n",
      "414   M   61  1637  0.780  1.072  0.0\n",
      "415   F   62  1372  0.766  1.279  0.0\n",
      "\n",
      "[235 rows x 6 columns]\n"
     ]
    }
   ],
   "source": [
    "# ID M/F Hand  Age  Educ  SES  MMSE  CDR  eTIV   nWBV    ASF\n",
    "\n",
    "df1= df[['M/F', 'Age', 'eTIV', 'nWBV', 'ASF', 'CDR']]\n",
    "print(df1)\n",
    "\n",
    "df2= df1.dropna()\n",
    "print(df2)"
   ]
  },
  {
   "cell_type": "code",
   "execution_count": 4,
   "metadata": {},
   "outputs": [
    {
     "name": "stdout",
     "output_type": "stream",
     "text": [
      "<class 'numpy.float64'>\n",
      "(235, 5)\n",
      "(235, 1)\n"
     ]
    }
   ],
   "source": [
    "x = np.array(df2[['M/F', 'Age', 'eTIV', 'nWBV', 'ASF']])\n",
    "y = np.array(df2['CDR'])\n",
    "\n",
    "y = y.reshape(-1,1)\n",
    "\n",
    "for entry in x:\n",
    "    if entry[0] == 'F':\n",
    "        entry[0] = 0\n",
    "    else:\n",
    "        entry[0] = 1\n",
    "\n",
    "for entry in y:\n",
    "    if entry[0] != 0:\n",
    "        entry[0] = 1\n",
    "        \n",
    "print(type(y[0][0]))\n",
    "\n",
    "print(x.shape)\n",
    "print(y.shape)"
   ]
  },
  {
   "cell_type": "code",
   "execution_count": 5,
   "metadata": {},
   "outputs": [
    {
     "name": "stdout",
     "output_type": "stream",
     "text": [
      "0\n"
     ]
    },
    {
     "name": "stderr",
     "output_type": "stream",
     "text": [
      "C:\\Users\\immic\\anaconda3\\lib\\site-packages\\sklearn\\utils\\validation.py:73: DataConversionWarning: A column-vector y was passed when a 1d array was expected. Please change the shape of y to (n_samples, ), for example using ravel().\n",
      "  return f(**kwargs)\n"
     ]
    }
   ],
   "source": [
    "# Converting our y values into ints\n",
    "\n",
    "lab_enc = preprocessing.LabelEncoder()\n",
    "y = lab_enc.fit_transform(y)\n",
    "\n",
    "print(y[0])"
   ]
  },
  {
   "cell_type": "code",
   "execution_count": 6,
   "metadata": {},
   "outputs": [
    {
     "name": "stdout",
     "output_type": "stream",
     "text": [
      "[[-0.71162508  0.1371931  -0.72174218 -0.12827252  0.6929025 ]\n",
      " [-0.71162508 -1.43752977 -1.95278831  1.27328952  2.43504324]\n",
      " [-0.71162508  0.05431295 -0.03435601 -0.8604318  -0.07363942]\n",
      " ...\n",
      " [-0.71162508 -0.94024886 -0.65925253  1.58707206  0.62321687]\n",
      " [ 1.40523434 -0.94024886  1.10920461  0.64572442 -1.11892387]\n",
      " [-0.71162508 -0.85736871 -0.54677115  0.35286071  0.48384561]]\n",
      "(170, 5)\n",
      "(65,)\n"
     ]
    }
   ],
   "source": [
    "#Scaling & Splitting Data\n",
    "\n",
    "x = preprocessing.scale(x)\n",
    "x_train, x_test, y_train, y_test = train_test_split(x, y, test_size=0.275)\n",
    "\n",
    "print(x)\n",
    "print(x_train.shape)\n",
    "print(y_test.shape)"
   ]
  },
  {
   "cell_type": "code",
   "execution_count": 7,
   "metadata": {},
   "outputs": [
    {
     "name": "stdout",
     "output_type": "stream",
     "text": [
      "0.2834971548451831\n"
     ]
    }
   ],
   "source": [
    "# Linear Regression (SIMPLE)\n",
    "\n",
    "reg = LinearRegression().fit(x_train, y_train)\n",
    "rsq = reg.score(x_train, y_train)\n",
    "coef = reg.coef_\n",
    "intercept = reg.intercept_\n",
    "\n",
    "print(rsq)"
   ]
  },
  {
   "cell_type": "code",
   "execution_count": 8,
   "metadata": {},
   "outputs": [],
   "source": [
    "yhat = reg.predict(x_test)\n",
    "#print(yhat)\n",
    "\n",
    "#CONTINUE..."
   ]
  },
  {
   "cell_type": "code",
   "execution_count": 9,
   "metadata": {},
   "outputs": [],
   "source": [
    "# Logistic Regression and SVMs"
   ]
  },
  {
   "cell_type": "code",
   "execution_count": 10,
   "metadata": {},
   "outputs": [],
   "source": [
    "def logreg_model_lasso(c , X_train, Y_train, X_test, Y_test):\n",
    "    logreg_lasso = linear_model.LogisticRegression(C=c, penalty='l1', solver='saga')\n",
    "    logreg_lasso.fit(X_train, Y_train)    \n",
    "    \n",
    "    Yhat_train = logreg_lasso.predict(X_train)\n",
    "    \n",
    "    acc_train = logreg_lasso.score(X_train, Y_train)\n",
    "    acc_train_logreg_lasso.append(acc_train)\n",
    "    print(\"Accuracy on training data = %f\" % acc_train)\n",
    "    \n",
    "    Yhat_test = logreg_lasso.predict(X_test)\n",
    "    \n",
    "    acc_test = logreg_lasso.score(X_test, Y_test)\n",
    "    acc_test_logreg_lasso.append(acc_test)\n",
    "    print(\"Accuracy on test data = %f\" % acc_test)\n",
    "    \n",
    "    c_logreg_lasso.append(c)"
   ]
  },
  {
   "cell_type": "code",
   "execution_count": 11,
   "metadata": {},
   "outputs": [],
   "source": [
    "def logreg_model_ridge(c , X_train, Y_train, X_test, Y_test):\n",
    "    logreg_ridge = linear_model.LogisticRegression(C=c, solver='lbfgs')\n",
    "    logreg_ridge.fit(X_train, Y_train)\n",
    "    \n",
    "    Yhat_train = logreg_ridge.predict(X_train)\n",
    "    \n",
    "    acc_train = logreg_ridge.score(X_train, Y_train)\n",
    "    acc_train_logreg_ridge.append(acc_train)\n",
    "    print(\"Accuracy on training data = %f\" % acc_train)\n",
    "    \n",
    "    Yhat_test = logreg_ridge.predict(X_test)\n",
    "    \n",
    "    acc_test = logreg_ridge.score(X_test, Y_test)\n",
    "    acc_test_logreg_ridge.append(acc_test)\n",
    "    print(\"Accuracy on test data = %f\" % acc_test)\n",
    "    \n",
    "    c_logreg_ridge.append(c)"
   ]
  },
  {
   "cell_type": "code",
   "execution_count": 12,
   "metadata": {},
   "outputs": [],
   "source": [
    "def svm_linear(c, X_train, Y_train, X_test, Y_test):\n",
    "    svc_linear = svm.SVC(C=c, kernel='linear')\n",
    "    svc_linear.fit(X_train, Y_train)\n",
    "    \n",
    "    Yhat_svc_linear_train = svc_linear.predict(X_train)\n",
    "    \n",
    "    acc_train = svc_linear.score(X_train, Y_train)\n",
    "    acc_train_svm_linear.append(acc_train)\n",
    "    print('Train Accuracy = {0:f}'.format(acc_train))\n",
    "    \n",
    "    Yhat_svc_linear_test = svc_linear.predict(X_test)\n",
    "\n",
    "    acc_test = svc_linear.score(X_test, Y_test)\n",
    "    acc_test_svm_linear.append(acc_test)\n",
    "    print('Test Accuracy = {0:f}'.format(acc_test))\n",
    "    \n",
    "    c_svm_linear.append(c)"
   ]
  },
  {
   "cell_type": "code",
   "execution_count": 13,
   "metadata": {},
   "outputs": [],
   "source": [
    "def svm_rbf(c, X_train, Y_train, X_test, Y_test):\n",
    "    svc_rbf = svm.SVC(C=c, kernel='rbf', gamma='scale')\n",
    "    svc_rbf.fit(X_train, Y_train)\n",
    "    \n",
    "    Yhat_svc_rbf_train = svc_rbf.predict(X_train)\n",
    "\n",
    "    acc_train = svc_rbf.score(X_train, Y_train)\n",
    "    acc_train_svm_rbf.append(acc_train)\n",
    "    print('Train Accuracy = {0:f}'.format(acc_train))\n",
    "    \n",
    "    Yhat_svc_rbf_test = svc_rbf.predict(X_test)\n",
    "    \n",
    "    acc_test = svc_rbf.score(X_test, Y_test)\n",
    "    acc_test_svm_rbf.append(acc_test)\n",
    "    print('Test Accuracy = {0:f}'.format(acc_test))\n",
    "    \n",
    "    c_svm_rbf.append(c)"
   ]
  },
  {
   "cell_type": "code",
   "execution_count": 14,
   "metadata": {},
   "outputs": [],
   "source": [
    "def svm_polynomial(c, X_train, Y_train, X_test, Y_test):\n",
    "    svc_polynomial = svm.SVC(C=c, kernel='poly', gamma='scale')\n",
    "    \n",
    "    A = X_train #[0:300,:]  # First 300 rows of training set.\n",
    "    B = Y_train #[0:300]  \n",
    "    C = X_test #[0:100,:]   # First 100 rows of test set.\n",
    "    D = Y_test #[0:100]\n",
    "    \n",
    "    svc_polynomial.fit(A, B)\n",
    "    \n",
    "    Yhat_svc_poly_train = svc_polynomial.predict(A)\n",
    "    \n",
    "    acc_train = svc_polynomial.score(A, B)\n",
    "    acc_train_svm_poly.append(acc_train)\n",
    "    print('Train Accuracy = {0:f}'.format(acc_train))\n",
    "    \n",
    "    Yhat_svc_poly_test = svc_polynomial.predict(C)\n",
    "\n",
    "    acc_test = svc_polynomial.score(C, D)\n",
    "    acc_test_svm_poly.append(acc_test)\n",
    "    print('Test Accuracy = {0:f}'.format(acc_test))\n",
    "    \n",
    "    c_svm_poly.append(c)    "
   ]
  },
  {
   "cell_type": "code",
   "execution_count": 15,
   "metadata": {},
   "outputs": [],
   "source": [
    "# Running the models on the datasets"
   ]
  },
  {
   "cell_type": "code",
   "execution_count": 16,
   "metadata": {},
   "outputs": [],
   "source": [
    "cVals = [0.0001, 0.001, 0.01, 0.1, 1, 10, 100]"
   ]
  },
  {
   "cell_type": "code",
   "execution_count": 17,
   "metadata": {},
   "outputs": [
    {
     "name": "stdout",
     "output_type": "stream",
     "text": [
      "Accuracy on training data = 0.605882\n",
      "Accuracy on test data = 0.492308\n",
      "Accuracy on training data = 0.605882\n",
      "Accuracy on test data = 0.492308\n",
      "Accuracy on training data = 0.605882\n",
      "Accuracy on test data = 0.492308\n",
      "Accuracy on training data = 0.688235\n",
      "Accuracy on test data = 0.676923\n",
      "Accuracy on training data = 0.711765\n",
      "Accuracy on test data = 0.723077\n",
      "Accuracy on training data = 0.729412\n",
      "Accuracy on test data = 0.723077\n",
      "Accuracy on training data = 0.729412\n",
      "Accuracy on test data = 0.723077\n"
     ]
    },
    {
     "name": "stderr",
     "output_type": "stream",
     "text": [
      "C:\\Users\\immic\\anaconda3\\lib\\site-packages\\sklearn\\linear_model\\_sag.py:329: ConvergenceWarning: The max_iter was reached which means the coef_ did not converge\n",
      "  warnings.warn(\"The max_iter was reached which means \"\n",
      "C:\\Users\\immic\\anaconda3\\lib\\site-packages\\sklearn\\linear_model\\_sag.py:329: ConvergenceWarning: The max_iter was reached which means the coef_ did not converge\n",
      "  warnings.warn(\"The max_iter was reached which means \"\n"
     ]
    }
   ],
   "source": [
    "acc_train_logreg_lasso = []\n",
    "acc_test_logreg_lasso = []\n",
    "c_logreg_lasso = []\n",
    "\n",
    "for c in cVals:\n",
    "    logreg_model_lasso(c, x_train, y_train, x_test, y_test)"
   ]
  },
  {
   "cell_type": "code",
   "execution_count": 18,
   "metadata": {},
   "outputs": [
    {
     "data": {
      "text/plain": [
       "<matplotlib.legend.Legend at 0x1a63549af70>"
      ]
     },
     "execution_count": 18,
     "metadata": {},
     "output_type": "execute_result"
    },
    {
     "data": {
      "image/png": "[encoded data removed]",
      "text/plain": [
       "<Figure size 432x288 with 1 Axes>"
      ]
     },
     "metadata": {
      "needs_background": "light"
     },
     "output_type": "display_data"
    }
   ],
   "source": [
    "plt.plot(c_logreg_lasso, acc_train_logreg_lasso, '.-')\n",
    "plt.plot(c_logreg_lasso, acc_test_logreg_lasso, '.-')\n",
    "plt.xlabel('C-Values')\n",
    "plt.ylabel('Accuray')\n",
    "plt.title(\"Logistic Regression Accuracy vs C-Values L1\")\n",
    "plt.grid()\n",
    "\n",
    "plt.legend(['Training Accuracy', 'Test Accuracy'], loc='lower right')"
   ]
  },
  {
   "cell_type": "code",
   "execution_count": 19,
   "metadata": {},
   "outputs": [
    {
     "name": "stdout",
     "output_type": "stream",
     "text": [
      "Accuracy on training data = 0.605882\n",
      "Accuracy on test data = 0.492308\n",
      "Accuracy on training data = 0.605882\n",
      "Accuracy on test data = 0.492308\n",
      "Accuracy on training data = 0.617647\n",
      "Accuracy on test data = 0.523077\n",
      "Accuracy on training data = 0.700000\n",
      "Accuracy on test data = 0.676923\n",
      "Accuracy on training data = 0.717647\n",
      "Accuracy on test data = 0.723077\n",
      "Accuracy on training data = 0.723529\n",
      "Accuracy on test data = 0.723077\n",
      "Accuracy on training data = 0.729412\n",
      "Accuracy on test data = 0.723077\n"
     ]
    }
   ],
   "source": [
    "acc_train_logreg_ridge = []\n",
    "acc_test_logreg_ridge = []\n",
    "c_logreg_ridge = []\n",
    "\n",
    "for c in cVals:\n",
    "    logreg_model_ridge(c, x_train, y_train, x_test, y_test)"
   ]
  },
  {
   "cell_type": "code",
   "execution_count": 20,
   "metadata": {},
   "outputs": [
    {
     "data": {
      "text/plain": [
       "<matplotlib.legend.Legend at 0x1a63557b9d0>"
      ]
     },
     "execution_count": 20,
     "metadata": {},
     "output_type": "execute_result"
    },
    {
     "data": {
      "image/png": "[encoded data removed]",
      "text/plain": [
       "<Figure size 432x288 with 1 Axes>"
      ]
     },
     "metadata": {
      "needs_background": "light"
     },
     "output_type": "display_data"
    }
   ],
   "source": [
    "plt.plot(c_logreg_ridge, acc_train_logreg_ridge, '.-')\n",
    "plt.plot(c_logreg_ridge, acc_test_logreg_ridge, '.-')\n",
    "plt.xlabel('C-Values')\n",
    "plt.ylabel('Accuray')\n",
    "plt.title(\"Logistic Regression Accuracy vs C-Values L2\")\n",
    "plt.grid()\n",
    "\n",
    "# Use the following function to have a legend\n",
    "plt.legend(['Training Accuracy', 'Test Accuracy'], loc='upper right')"
   ]
  },
  {
   "cell_type": "code",
   "execution_count": 21,
   "metadata": {},
   "outputs": [
    {
     "name": "stdout",
     "output_type": "stream",
     "text": [
      "Train Accuracy = 0.605882\n",
      "Test Accuracy = 0.492308\n",
      "Train Accuracy = 0.605882\n",
      "Test Accuracy = 0.492308\n",
      "Train Accuracy = 0.623529\n",
      "Test Accuracy = 0.507692\n",
      "Train Accuracy = 0.723529\n",
      "Test Accuracy = 0.723077\n",
      "Train Accuracy = 0.717647\n",
      "Test Accuracy = 0.692308\n",
      "Train Accuracy = 0.729412\n",
      "Test Accuracy = 0.692308\n",
      "Train Accuracy = 0.729412\n",
      "Test Accuracy = 0.692308\n"
     ]
    }
   ],
   "source": [
    "acc_train_svm_linear = []\n",
    "acc_test_svm_linear = []\n",
    "c_svm_linear = []\n",
    "\n",
    "for c in cVals:\n",
    "    svm_linear(c, x_train, y_train, x_test, y_test)"
   ]
  },
  {
   "cell_type": "code",
   "execution_count": 22,
   "metadata": {},
   "outputs": [
    {
     "data": {
      "text/plain": [
       "<matplotlib.legend.Legend at 0x1a6355e7c10>"
      ]
     },
     "execution_count": 22,
     "metadata": {},
     "output_type": "execute_result"
    },
    {
     "data": {
      "image/png": "[encoded data removed]",
      "text/plain": [
       "<Figure size 432x288 with 1 Axes>"
      ]
     },
     "metadata": {
      "needs_background": "light"
     },
     "output_type": "display_data"
    }
   ],
   "source": [
    "plt.plot(c_svm_linear, acc_train_svm_linear, '.-')\n",
    "plt.plot(c_svm_linear, acc_test_svm_linear, '.-')\n",
    "plt.xlabel('C-Values')\n",
    "plt.ylabel('Accuray')\n",
    "plt.title(\"SVM-Linear Accuracy vs C-Values\")\n",
    "plt.grid()\n",
    "\n",
    "plt.legend(['Training Accuracy', 'Test Accuracy'], loc='upper right')"
   ]
  },
  {
   "cell_type": "code",
   "execution_count": 23,
   "metadata": {},
   "outputs": [
    {
     "name": "stdout",
     "output_type": "stream",
     "text": [
      "Train Accuracy = 0.605882\n",
      "Test Accuracy = 0.492308\n",
      "Train Accuracy = 0.605882\n",
      "Test Accuracy = 0.492308\n",
      "Train Accuracy = 0.605882\n",
      "Test Accuracy = 0.492308\n",
      "Train Accuracy = 0.605882\n",
      "Test Accuracy = 0.492308\n",
      "Train Accuracy = 0.794118\n",
      "Test Accuracy = 0.707692\n",
      "Train Accuracy = 0.823529\n",
      "Test Accuracy = 0.600000\n",
      "Train Accuracy = 0.864706\n",
      "Test Accuracy = 0.553846\n"
     ]
    }
   ],
   "source": [
    "acc_train_svm_rbf = []\n",
    "acc_test_svm_rbf = []\n",
    "c_svm_rbf = []\n",
    "\n",
    "for c in cVals:\n",
    "    svm_rbf(c, x_train, y_train, x_test, y_test)"
   ]
  },
  {
   "cell_type": "code",
   "execution_count": 24,
   "metadata": {},
   "outputs": [
    {
     "data": {
      "text/plain": [
       "<matplotlib.legend.Legend at 0x1a635639670>"
      ]
     },
     "execution_count": 24,
     "metadata": {},
     "output_type": "execute_result"
    },
    {
     "data": {
      "image/png": "[encoded data removed]",
      "text/plain": [
       "<Figure size 432x288 with 1 Axes>"
      ]
     },
     "metadata": {
      "needs_background": "light"
     },
     "output_type": "display_data"
    }
   ],
   "source": [
    "plt.plot(c_svm_rbf, acc_train_svm_rbf, '.-')\n",
    "plt.plot(c_svm_rbf, acc_test_svm_rbf, '.-')\n",
    "plt.xlabel('C-Values')\n",
    "plt.ylabel('Accuray')\n",
    "plt.title(\"SVM-RBF Accuracy vs C-Values\")\n",
    "plt.grid()\n",
    "\n",
    "plt.legend(['Training Accuracy', 'Test Accuracy'], loc='lower right')"
   ]
  },
  {
   "cell_type": "code",
   "execution_count": 25,
   "metadata": {},
   "outputs": [
    {
     "name": "stdout",
     "output_type": "stream",
     "text": [
      "Train Accuracy = 0.605882\n",
      "Test Accuracy = 0.492308\n",
      "Train Accuracy = 0.605882\n",
      "Test Accuracy = 0.492308\n",
      "Train Accuracy = 0.605882\n",
      "Test Accuracy = 0.492308\n",
      "Train Accuracy = 0.617647\n",
      "Test Accuracy = 0.523077\n",
      "Train Accuracy = 0.694118\n",
      "Test Accuracy = 0.692308\n",
      "Train Accuracy = 0.711765\n",
      "Test Accuracy = 0.723077\n",
      "Train Accuracy = 0.735294\n",
      "Test Accuracy = 0.646154\n"
     ]
    }
   ],
   "source": [
    "acc_train_svm_poly = []\n",
    "acc_test_svm_poly = []\n",
    "c_svm_poly = []\n",
    "\n",
    "for c in cVals:\n",
    "    svm_polynomial(c, x_train, y_train, x_test, y_test)"
   ]
  },
  {
   "cell_type": "code",
   "execution_count": 26,
   "metadata": {},
   "outputs": [
    {
     "data": {
      "text/plain": [
       "<matplotlib.legend.Legend at 0x1a6356bd8b0>"
      ]
     },
     "execution_count": 26,
     "metadata": {},
     "output_type": "execute_result"
    },
    {
     "data": {
      "image/png": "[encoded data removed]",
      "text/plain": [
       "<Figure size 432x288 with 1 Axes>"
      ]
     },
     "metadata": {
      "needs_background": "light"
     },
     "output_type": "display_data"
    }
   ],
   "source": [
    "plt.plot(c_svm_poly, acc_train_svm_poly, '.-')\n",
    "plt.plot(c_svm_poly, acc_test_svm_poly, '.-')\n",
    "plt.xlabel('C-Values')\n",
    "plt.ylabel('Accuray')\n",
    "plt.title(\"SVM-Poly Accuracy vs C-Values\")\n",
    "plt.grid()\n",
    "\n",
    "# Use the following function to have a legend\n",
    "plt.legend(['Training Accuracy', 'Test Accuracy'], loc='upper right')"
   ]
  },
  {
   "cell_type": "code",
   "execution_count": 27,
   "metadata": {},
   "outputs": [],
   "source": [
    "# Neural Networks"
   ]
  },
  {
   "cell_type": "code",
   "execution_count": 39,
   "metadata": {},
   "outputs": [],
   "source": [
    "#The activation function and its derivative\n",
    "# def f(z):\n",
    "#     return 1 / (1 + np.exp(-z))\n",
    "\n",
    "def f(z):\n",
    "    return(np.exp(z)-np.exp(-z))/(np.exp(z)+np.exp(-z))\n",
    "    \n",
    "# def f(z):\n",
    "#     for i in range(len(z)):\n",
    "#         z[i] = max(0,z[i])\n",
    "#     return z\n",
    "\n",
    "# def f4(z):\n",
    "#     for elem in z:\n",
    "#         elem = max(0.3*elem,elem)\n",
    "#     return z\n",
    "    \n",
    "# def f_deriv(z):\n",
    "#     return f(z) * (1 - f(z))\n",
    "\n",
    "def f_deriv(z):\n",
    "   return 1 - (f(z)**2)\n",
    "    \n",
    "# def f_deriv(z):\n",
    "#     for i in range(len(z)):    \n",
    "#        if z[i] < 0:\n",
    "#            z[i] = 0\n",
    "#        else:\n",
    "#            z[i] = 1\n",
    "#     return z\n",
    "\n",
    "# def f4_deriv(z):\n",
    "#     for elem in z:    \n",
    "#        if elem < 0:\n",
    "#            elem = 0.3\n",
    "#        else:\n",
    "#            elem = 1\n",
    "#     return z"
   ]
  },
  {
   "cell_type": "code",
   "execution_count": 31,
   "metadata": {},
   "outputs": [],
   "source": [
    "def setup_and_init_weights(nn_structure):\n",
    "    W = {} #creating a dictionary i.e. a set of key: value pairs\n",
    "    b = {}\n",
    "    for l in range(1, len(nn_structure)):\n",
    "        W[l] = r.random_sample((nn_structure[l], nn_structure[l-1])) #Return “continuous uniform” random floats in the half-open interval [0.0, 1.0). \n",
    "        b[l] = r.random_sample((nn_structure[l],))\n",
    "    return W, b"
   ]
  },
  {
   "cell_type": "code",
   "execution_count": 32,
   "metadata": {},
   "outputs": [],
   "source": [
    "def init_tri_values(nn_structure):\n",
    "    tri_W = {}\n",
    "    tri_b = {}\n",
    "    for l in range(1, len(nn_structure)):\n",
    "        tri_W[l] = np.zeros((nn_structure[l], nn_structure[l-1]))\n",
    "        tri_b[l] = np.zeros((nn_structure[l],))\n",
    "    return tri_W, tri_b"
   ]
  },
  {
   "cell_type": "code",
   "execution_count": 33,
   "metadata": {},
   "outputs": [],
   "source": [
    "def feed_forward(x, W, b):\n",
    "    a = {1: x} # create a dictionary for holding the a values for all levels\n",
    "    z = { } # create a dictionary for holding the z values for all the layers\n",
    "    for l in range(1, len(W) + 1): # for each layer\n",
    "        node_in = a[l]\n",
    "        z[l+1] = W[l].dot(node_in) + b[l]  # z^(l+1) = W^(l)*a^(l) + b^(l)\n",
    "        a[l+1] = f(z[l+1]) # a^(l+1) = f(z^(l+1))\n",
    "    return a, z"
   ]
  },
  {
   "cell_type": "code",
   "execution_count": 34,
   "metadata": {},
   "outputs": [],
   "source": [
    "def calculate_out_layer_delta(y, a_out, z_out):\n",
    "    # delta^(nl) = -(y_i - a_i^(nl)) * f'(z_i^(nl))\n",
    "    return -(y-a_out) * f_deriv(z_out) \n",
    "\n",
    "\n",
    "def calculate_hidden_delta(delta_plus_1, w_l, z_l):\n",
    "    # delta^(l) = (transpose(W^(l)) * delta^(l+1)) * f'(z^(l))\n",
    "    return np.dot(np.transpose(w_l), delta_plus_1) * f_deriv(z_l)"
   ]
  },
  {
   "cell_type": "code",
   "execution_count": 35,
   "metadata": {},
   "outputs": [],
   "source": [
    "def train_nn(nn_structure, X, y, iter_num=3000, alpha=0.25):\n",
    "    W, b = setup_and_init_weights(nn_structure)\n",
    "    cnt = 0\n",
    "    N = len(y)\n",
    "    avg_cost_func = []\n",
    "    print('Starting gradient descent for {} iterations'.format(iter_num))\n",
    "    while cnt < iter_num:\n",
    "        if cnt%1000 == 0:\n",
    "            print('Iteration {} of {}'.format(cnt, iter_num))\n",
    "        tri_W, tri_b = init_tri_values(nn_structure)\n",
    "        avg_cost = 0\n",
    "        for i in range(N):\n",
    "            delta = {}\n",
    "            # perform the feed forward pass and return the stored a and z values, to be used in the\n",
    "            # gradient descent step\n",
    "            a, z = feed_forward(X[i, :], W, b)\n",
    "            # loop from nl-1 to 1 backpropagating the errors\n",
    "            for l in range(len(nn_structure), 0, -1):\n",
    "                if l == len(nn_structure):\n",
    "                    delta[l] = calculate_out_layer_delta(y[i,:], a[l], z[l])\n",
    "                    avg_cost += np.linalg.norm((y[i,:]-a[l]))\n",
    "                else:\n",
    "                    if l > 1:\n",
    "                        delta[l] = calculate_hidden_delta(delta[l+1], W[l], z[l])\n",
    "                    # triW^(l) = triW^(l) + delta^(l+1) * transpose(a^(l))\n",
    "                    tri_W[l] += np.dot(delta[l+1][:,np.newaxis], np.transpose(a[l][:,np.newaxis]))# np.newaxis increase the number of dimensions\n",
    "                    # trib^(l) = trib^(l) + delta^(l+1)\n",
    "                    tri_b[l] += delta[l+1]\n",
    "        # perform the gradient descent step for the weights in each layer\n",
    "        for l in range(len(nn_structure) - 1, 0, -1):\n",
    "            #W[l] += -alpha * (1.0/N * tri_W[l])\n",
    "            W[l] += -alpha * ((1.0/N * tri_W[l]) + ((.001/2)*(W[l]))) #with regularization term\n",
    "            b[l] += -alpha * (1.0/N * tri_b[l])\n",
    "        # complete the average cost calculation\n",
    "        avg_cost = 1.0/N * avg_cost\n",
    "        avg_cost_func.append(avg_cost)\n",
    "        cnt += 1\n",
    "    return W, b, avg_cost_func\n",
    "\n",
    "\n",
    "def predict_y(W, b, X, n_layers):\n",
    "    N = X.shape[0]\n",
    "    y = np.zeros((N,))\n",
    "    for i in range(N):\n",
    "        a, z = feed_forward(X[i, :], W, b)\n",
    "        y[i] = np.argmax(a[n_layers])\n",
    "    return y"
   ]
  },
  {
   "cell_type": "code",
   "execution_count": 40,
   "metadata": {},
   "outputs": [
    {
     "name": "stdout",
     "output_type": "stream",
     "text": [
      "Starting gradient descent for 4000 iterations\n",
      "Iteration 0 of 4000\n",
      "Iteration 1000 of 4000\n",
      "Iteration 2000 of 4000\n",
      "Iteration 3000 of 4000\n"
     ]
    }
   ],
   "source": [
    "x = np.array(df2[['M/F', 'Age', 'eTIV', 'nWBV', 'ASF']])\n",
    "y = np.array(df2['CDR'])\n",
    "\n",
    "for entry in x:\n",
    "    if entry[0] == 'F':\n",
    "        entry[0] = 0\n",
    "    else:\n",
    "        entry[0] = 1\n",
    "        \n",
    "X_scale = preprocessing.StandardScaler()\n",
    "x = X_scale.fit_transform(x)\n",
    "\n",
    "x_train, x_test, y_train, y_test = train_test_split(x, y, test_size=0.275)\n",
    "\n",
    "y_vect = np.zeros((len(y_train), 5))\n",
    "for i in range(len(y_train)):\n",
    "    y_vect[i, int(y_train[i]*2)] = 1\n",
    "y_train = y_vect\n",
    "\n",
    "y_test2 = np.zeros((len(y_test),))\n",
    "for i in range(len(y_test)):\n",
    "    y_test2[i] = y_test[i]*2\n",
    "y_test = y_test2\n",
    "\n",
    "nn_structure = [5, 10, 10, 5]\n",
    "\n",
    "# train the NN\n",
    "W, b, avg_cost_func = train_nn(nn_structure, x_train, y_train, 4000)"
   ]
  },
  {
   "cell_type": "code",
   "execution_count": 41,
   "metadata": {},
   "outputs": [
    {
     "data": {
      "image/png": "[encoded data removed]",
      "text/plain": [
       "<Figure size 432x288 with 1 Axes>"
      ]
     },
     "metadata": {
      "needs_background": "light"
     },
     "output_type": "display_data"
    }
   ],
   "source": [
    "# plot the avg_cost_func\n",
    "plt.plot(avg_cost_func)\n",
    "plt.ylabel('Average J')\n",
    "plt.xlabel('Iteration number')\n",
    "plt.show()"
   ]
  },
  {
   "cell_type": "code",
   "execution_count": 42,
   "metadata": {},
   "outputs": [
    {
     "name": "stdout",
     "output_type": "stream",
     "text": [
      "[0. 2. 0. 1. 0. 0. 1. 0. 1. 0. 0. 0. 0. 0. 0. 1. 2. 0. 1. 0. 0. 1. 1. 1.\n",
      " 1. 0. 0. 0. 2. 2. 0. 0. 1. 0. 2. 0. 0. 0. 0. 0. 1. 0. 0. 0. 1. 0. 0. 0.\n",
      " 0. 0. 1. 0. 0. 0. 4. 0. 0. 0. 0. 4. 1. 1. 0. 1. 0.]\n",
      "[0. 0. 0. 1. 0. 1. 2. 0. 1. 1. 0. 0. 0. 0. 1. 0. 0. 1. 0. 0. 1. 0. 1. 1.\n",
      " 0. 0. 1. 1. 1. 1. 0. 0. 0. 0. 2. 1. 1. 0. 1. 0. 0. 0. 0. 0. 2. 2. 1. 0.\n",
      " 0. 1. 0. 1. 0. 1. 1. 0. 1. 0. 1. 2. 1. 1. 1. 2. 0.]\n",
      "Prediction accuracy is 47.69230769230769%\n"
     ]
    }
   ],
   "source": [
    "# get the prediction accuracy and print\n",
    "y_pred = predict_y(W, b, x_test, 4)\n",
    "print(y_test)\n",
    "print(y_pred)\n",
    "\n",
    "print('Prediction accuracy is {}%'.format(accuracy_score(y_test, y_pred) * 100))"
   ]
  },
  {
   "cell_type": "code",
   "execution_count": 156,
   "metadata": {},
   "outputs": [],
   "source": [
    "# Unsupervised Learning"
   ]
  },
  {
   "cell_type": "code",
   "execution_count": 146,
   "metadata": {},
   "outputs": [
    {
     "name": "stdout",
     "output_type": "stream",
     "text": [
      "Accuracy:0.630769\n"
     ]
    }
   ],
   "source": [
    "from sklearn.cluster import KMeans\n",
    "import numpy as np\n",
    "kmeans = KMeans(n_clusters=2, random_state=0).fit(x)\n",
    "# kmeans.labels_\n",
    "# array([1, 1, 1, 0, 0, 0], dtype=int32)\n",
    "# kmeans.predict([[0, 0], [12, 3]])\n",
    "# array([1, 0], dtype=int32)\n",
    "kmeans.cluster_centers_\n",
    "score = accuracy_score(y_test,kmeans.predict(x_test))\n",
    "print('Accuracy:{0:f}'.format(score))"
   ]
  },
  {
   "cell_type": "code",
   "execution_count": null,
   "metadata": {},
   "outputs": [],
   "source": [
    "df1= df[['M/F', 'Age', 'eTIV', 'nWBV', 'ASF', 'CDR']]\n",
    "df2= df1.dropna()\n",
    "\n",
    "x = np.array(df2[['M/F', 'Age', 'eTIV', 'nWBV', 'ASF']])\n",
    "y = np.array(df2['CDR'])\n",
    "\n",
    "y = y.reshape(-1,1)\n",
    "\n",
    "for entry in x:\n",
    "    if entry[0] == 'F':\n",
    "        entry[0] = 0\n",
    "    else:\n",
    "        entry[0] = 1\n",
    "\n",
    "for entry in y:\n",
    "    if entry[0] != 0:\n",
    "        entry[0] = 1\n",
    "        \n",
    "lab_enc = preprocessing.LabelEncoder()\n",
    "y = lab_enc.fit_transform(y)\n",
    "\n",
    "x = preprocessing.scale(x)\n",
    "x_train, x_test, y_train, y_test = train_test_split(x, y, test_size=0.275)"
   ]
  },
  {
   "cell_type": "code",
   "execution_count": 290,
   "metadata": {},
   "outputs": [
    {
     "name": "stdout",
     "output_type": "stream",
     "text": [
      "[[ 0.44711953  0.15408128  0.59221435 -0.27850459 -0.58996648]\n",
      " [ 0.19625851 -0.70454301  0.16766767  0.63916591 -0.16868977]]\n",
      "[0.50365773 0.32848104]\n"
     ]
    },
    {
     "data": {
      "image/png": "[encoded data removed]",
      "text/plain": [
       "<Figure size 432x288 with 1 Axes>"
      ]
     },
     "metadata": {
      "needs_background": "light"
     },
     "output_type": "display_data"
    }
   ],
   "source": [
    "from sklearn import decomposition\n",
    "\n",
    "pca = decomposition.PCA(n_components=2)\n",
    "principalComponents = pca.fit_transform(x)\n",
    "principalDf = pd.DataFrame(data = principalComponents, columns = ['principal component 1', 'principal component 2'])\n",
    "target = pd.DataFrame(y, columns = ['CDR'])\n",
    "finalDf = pd.concat([principalDf, target], axis = 1)\n",
    "\n",
    "plt.xlabel('Principal Component 1')\n",
    "plt.ylabel('Principal Component 2')\n",
    "plt.title(\"2 component PCA\")\n",
    "plt.grid()\n",
    "\n",
    "targets = [0, 1]\n",
    "colors = ['r', 'g']\n",
    "for target, color in zip(targets,colors):\n",
    "    indicesToKeep = finalDf['CDR'] == target\n",
    "    plt.scatter(finalDf.loc[indicesToKeep, 'principal component 1']\n",
    "               , finalDf.loc[indicesToKeep, 'principal component 2']\n",
    "               , c = color\n",
    "               , s = 50)\n",
    "plt.legend(targets)\n",
    "plt.grid()\n",
    "print(pca.components_)\n",
    "print(pca.explained_variance_ratio_)"
   ]
  },
  {
   "cell_type": "code",
   "execution_count": 332,
   "metadata": {},
   "outputs": [
    {
     "name": "stderr",
     "output_type": "stream",
     "text": [
      "C:\\Users\\immic\\anaconda3\\lib\\site-packages\\sklearn\\utils\\validation.py:73: DataConversionWarning: A column-vector y was passed when a 1d array was expected. Please change the shape of y to (n_samples, ), for example using ravel().\n",
      "  return f(**kwargs)\n"
     ]
    }
   ],
   "source": [
    "df1= df[['M/F', 'Age', 'eTIV', 'nWBV', 'ASF', 'CDR']]\n",
    "df2= df1.dropna()\n",
    "\n",
    "x = np.array(df2[['M/F', 'Age', 'eTIV', 'nWBV', 'ASF']])\n",
    "y = np.array(df2['CDR'])\n",
    "\n",
    "y = y.reshape(-1,1)\n",
    "\n",
    "for entry in x:\n",
    "    if entry[0] == 'F':\n",
    "        entry[0] = 0\n",
    "    else:\n",
    "        entry[0] = 1\n",
    "\n",
    "for entry in y:\n",
    "    if entry[0] != 0:\n",
    "        entry[0] = 1\n",
    "        \n",
    "lab_enc = preprocessing.LabelEncoder()\n",
    "y = lab_enc.fit_transform(y)\n",
    "\n",
    "x = preprocessing.scale(x)\n",
    "x_train, x_test, y_train, y_test = train_test_split(x, y, test_size=0.275)"
   ]
  },
  {
   "cell_type": "code",
   "execution_count": 334,
   "metadata": {},
   "outputs": [
    {
     "name": "stdout",
     "output_type": "stream",
     "text": [
      "0.6588235294117647\n",
      "0.7230769230769231\n"
     ]
    }
   ],
   "source": [
    "pca = decomposition.PCA(.85)\n",
    "x_train = pca.fit_transform(x_train)\n",
    "x_test = pca.fit_transform(x_test)\n",
    "\n",
    "logisticRegr = LogisticRegression(solver = 'lbfgs')\n",
    "\n",
    "logisticRegr.fit(x_train, y_train)\n",
    "\n",
    "train_pred = logisticRegr.predict(x_train)\n",
    "print(logisticRegr.score(x_train, y_train))\n",
    "\n",
    "test_pred = logisticRegr.predict(x_test)\n",
    "print(logisticRegr.score(x_test, y_test))\n",
    "\n",
    "\n",
    "\n",
    "# print(x_train_pca.shape)\n",
    "# print(x_train_pca)\n",
    "# print(x_test_pca)\n",
    "\n",
    "# pca_init = PCA().fit_train(x_train)\n",
    "# plt.plot(np.cumsum(pca_init.explained_variance_ratio_))\n",
    "# plt.grid()\n",
    "\n",
    "# pca = PCA(n_components=2)\n",
    "# pca.fit(X)\n"
   ]
  },
  {
   "cell_type": "code",
   "execution_count": null,
   "metadata": {},
   "outputs": [],
   "source": []
  }
 ],
 "metadata": {
  "kernelspec": {
   "display_name": "Python 3",
   "language": "python",
   "name": "python3"
  },
  "language_info": {
   "codemirror_mode": {
    "name": "ipython",
    "version": 3
   },
   "file_extension": ".py",
   "mimetype": "text/x-python",
   "name": "python",
   "nbconvert_exporter": "python",
   "pygments_lexer": "ipython3",
   "version": "3.8.3"
  }
 },
 "nbformat": 4,
 "nbformat_minor": 2
}
